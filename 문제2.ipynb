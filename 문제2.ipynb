{
 "cells": [
  {
   "cell_type": "code",
   "execution_count": 5,
   "id": "9f1964ad-17ec-4b6a-8c5b-6196223b0391",
   "metadata": {},
   "outputs": [],
   "source": [
    "import folium\n",
    "\n",
    "map = folium.Map(location=[37,127],zoom_start=7)\n",
    "\n",
    "marker = folium.Marker([35.182955197, 126.878670165],\n",
    "                    popup='한국폴리텍V대학 광주캠퍼스', \n",
    "                    icon = folium.Icon(color='pink'))\n",
    "\n",
    "marker.add_to(map) \n",
    "\n",
    "map.save(r'한국폴리텍V대학-광주캠퍼스_map.html')"
   ]
  }
 ],
 "metadata": {
  "kernelspec": {
   "display_name": "Python 3 (ipykernel)",
   "language": "python",
   "name": "python3"
  },
  "language_info": {
   "codemirror_mode": {
    "name": "ipython",
    "version": 3
   },
   "file_extension": ".py",
   "mimetype": "text/x-python",
   "name": "python",
   "nbconvert_exporter": "python",
   "pygments_lexer": "ipython3",
   "version": "3.12.4"
  }
 },
 "nbformat": 4,
 "nbformat_minor": 5
}
