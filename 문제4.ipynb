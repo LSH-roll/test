{
 "cells": [
  {
   "cell_type": "code",
   "execution_count": 3,
   "id": "f903a8f2-4a51-49f1-9ff3-d579720b83ed",
   "metadata": {},
   "outputs": [
    {
     "name": "stdout",
     "output_type": "stream",
     "text": [
      "Collecting qrcode\n",
      "  Downloading qrcode-8.0-py3-none-any.whl.metadata (17 kB)\n",
      "Requirement already satisfied: colorama in c:\\users\\mac020\\anaconda3\\lib\\site-packages (from qrcode) (0.4.6)\n",
      "Downloading qrcode-8.0-py3-none-any.whl (45 kB)\n",
      "   ---------------------------------------- 0.0/45.7 kB ? eta -:--:--\n",
      "   ----------------------------------- ---- 41.0/45.7 kB 991.0 kB/s eta 0:00:01\n",
      "   ----------------------------------- ---- 41.0/45.7 kB 991.0 kB/s eta 0:00:01\n",
      "   ---------------------------------------- 45.7/45.7 kB 377.3 kB/s eta 0:00:00\n",
      "Installing collected packages: qrcode\n",
      "Successfully installed qrcode-8.0\n"
     ]
    }
   ],
   "source": [
    "!pip install qrcode"
   ]
  },
  {
   "cell_type": "code",
   "execution_count": 5,
   "id": "e6560443-d699-43b5-97a6-ea1a6d89b16f",
   "metadata": {},
   "outputs": [
    {
     "name": "stdout",
     "output_type": "stream",
     "text": [
      "QR코드가 생성되어 'github_qrcode.png'로 저장되었습니다!\n"
     ]
    }
   ],
   "source": [
    "import qrcode\n",
    "\n",
    "# 깃허브 저장소 링크\n",
    "github_url = \"https://github.com/LSH-roll/test\"\n",
    "\n",
    "# QR코드 생성\n",
    "qr = qrcode.QRCode(\n",
    "    version=1,  # QR코드 크기 조정 (1~40)\n",
    "    error_correction=qrcode.constants.ERROR_CORRECT_L,  # 오류 수정 수준\n",
    "    box_size=10,  # 박스 크기\n",
    "    border=4,  # 테두리 크기\n",
    ")\n",
    "qr.add_data(github_url)\n",
    "qr.make(fit=True)\n",
    "\n",
    "# QR코드 이미지 생성\n",
    "img = qr.make_image(fill=\"black\", back_color=\"white\")\n",
    "\n",
    "# 이미지 저장\n",
    "img.save(\"이승하_github_qrcode.png\")\n",
    "\n",
    "print(\"QR코드가 생성되어 'github_qrcode.png'로 저장되었습니다!\")\n"
   ]
  },
  {
   "cell_type": "code",
   "execution_count": null,
   "id": "8112b834-5b6b-4d76-bb77-1d7db074f59b",
   "metadata": {},
   "outputs": [],
   "source": []
  }
 ],
 "metadata": {
  "kernelspec": {
   "display_name": "Python 3 (ipykernel)",
   "language": "python",
   "name": "python3"
  },
  "language_info": {
   "codemirror_mode": {
    "name": "ipython",
    "version": 3
   },
   "file_extension": ".py",
   "mimetype": "text/x-python",
   "name": "python",
   "nbconvert_exporter": "python",
   "pygments_lexer": "ipython3",
   "version": "3.12.4"
  }
 },
 "nbformat": 4,
 "nbformat_minor": 5
}
